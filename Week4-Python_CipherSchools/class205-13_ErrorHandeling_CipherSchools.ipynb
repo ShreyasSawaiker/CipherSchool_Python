{
 "cells": [
  {
   "cell_type": "code",
   "execution_count": 2,
   "id": "e39e6854",
   "metadata": {},
   "outputs": [
    {
     "name": "stdout",
     "output_type": "stream",
     "text": [
      "5\n"
     ]
    },
    {
     "ename": "TypeError",
     "evalue": "OOP's You Are Passin Wrong Data Type To The Function",
     "output_type": "error",
     "traceback": [
      "\u001b[1;31m---------------------------------------------------------------------------\u001b[0m",
      "\u001b[1;31mTypeError\u001b[0m                                 Traceback (most recent call last)",
      "Input \u001b[1;32mIn [2]\u001b[0m, in \u001b[0;36m<cell line: 8>\u001b[1;34m()\u001b[0m\n\u001b[0;32m      5\u001b[0m     \u001b[38;5;28;01mraise\u001b[39;00m \u001b[38;5;167;01mTypeError\u001b[39;00m(\u001b[38;5;124m\"\u001b[39m\u001b[38;5;124mOOP\u001b[39m\u001b[38;5;124m'\u001b[39m\u001b[38;5;124ms You Are Passin Wrong Data Type To The Function\u001b[39m\u001b[38;5;124m\"\u001b[39m)\n\u001b[0;32m      7\u001b[0m \u001b[38;5;28mprint\u001b[39m(add(\u001b[38;5;241m2\u001b[39m,\u001b[38;5;241m3\u001b[39m))\n\u001b[1;32m----> 8\u001b[0m \u001b[38;5;28mprint\u001b[39m(\u001b[43madd\u001b[49m\u001b[43m(\u001b[49m\u001b[38;5;124;43m\"\u001b[39;49m\u001b[38;5;124;43m2\u001b[39;49m\u001b[38;5;124;43m\"\u001b[39;49m\u001b[43m,\u001b[49m\u001b[38;5;241;43m3\u001b[39;49m\u001b[43m)\u001b[49m)\n",
      "Input \u001b[1;32mIn [2]\u001b[0m, in \u001b[0;36madd\u001b[1;34m(a, b)\u001b[0m\n\u001b[0;32m      3\u001b[0m \u001b[38;5;28;01mif\u001b[39;00m(\u001b[38;5;28mtype\u001b[39m(a) \u001b[38;5;241m==\u001b[39m \u001b[38;5;28mint\u001b[39m \u001b[38;5;129;01mand\u001b[39;00m \u001b[38;5;28mtype\u001b[39m(b) \u001b[38;5;241m==\u001b[39m \u001b[38;5;28mint\u001b[39m):\n\u001b[0;32m      4\u001b[0m     \u001b[38;5;28;01mreturn\u001b[39;00m a\u001b[38;5;241m+\u001b[39mb\n\u001b[1;32m----> 5\u001b[0m \u001b[38;5;28;01mraise\u001b[39;00m \u001b[38;5;167;01mTypeError\u001b[39;00m(\u001b[38;5;124m\"\u001b[39m\u001b[38;5;124mOOP\u001b[39m\u001b[38;5;124m'\u001b[39m\u001b[38;5;124ms You Are Passin Wrong Data Type To The Function\u001b[39m\u001b[38;5;124m\"\u001b[39m)\n",
      "\u001b[1;31mTypeError\u001b[0m: OOP's You Are Passin Wrong Data Type To The Function"
     ]
    }
   ],
   "source": [
    "# Raising Error\n",
    "def add(a,b):\n",
    "    if(type(a) == int and type(b) == int):\n",
    "        return a+b\n",
    "    raise TypeError(\"OOP's You Are Passin Wrong Data Type To The Function\")\n",
    "    \n",
    "print(add(2,3))\n",
    "print(add(\"2\",3))"
   ]
  },
  {
   "cell_type": "code",
   "execution_count": 5,
   "id": "7ccfb899",
   "metadata": {},
   "outputs": [
    {
     "name": "stdout",
     "output_type": "stream",
     "text": [
      "BBoo BBoo\n"
     ]
    }
   ],
   "source": [
    "#Not implemented error\n",
    "# Mostly used in OOP\n",
    "\n",
    "class Animal:\n",
    "    def __init__(self,name):\n",
    "        self.name = name\n",
    "        \n",
    "    def sound(self):\n",
    "        raise NotImplementedError(\"You have to define this method in subclass\")\n",
    "        \n",
    "class Dog(Animal):\n",
    "    def __init__(self,name,breed):\n",
    "        super().__init__(name)\n",
    "        self.breed = breed\n",
    "        \n",
    "    def sound(self):\n",
    "        print(\"BBoo BBoo\")\n",
    "        \n",
    "class Cat(Animal):\n",
    "    def __init__(self,name,breed):\n",
    "        super().__init__(name)\n",
    "        self.breed = breed\n",
    "        \n",
    "doggy = Dog(\"Lucy\",\"Pug\")\n",
    "doggy.sound()"
   ]
  },
  {
   "cell_type": "markdown",
   "id": "f5a8d9bc",
   "metadata": {},
   "source": [
    "# Exception Handeling"
   ]
  },
  {
   "cell_type": "code",
   "execution_count": 8,
   "id": "674e3f0c",
   "metadata": {},
   "outputs": [
    {
     "name": "stdout",
     "output_type": "stream",
     "text": [
      "Enter you age: 18\n",
      "Enjoy the game\n"
     ]
    }
   ],
   "source": [
    "while True:\n",
    "    try:\n",
    "        age = int(input(\"Enter you age: \"))\n",
    "        break\n",
    "    except ValueError:\n",
    "        print(\"Maybe You Entered String\")\n",
    "    except:\n",
    "        print(\"Unexpected Error.......\")\n",
    "    \n",
    "if age<18:\n",
    "    print(\"You can't play this game\")\n",
    "else:\n",
    "    print(\"Enjoy the game\")"
   ]
  },
  {
   "cell_type": "code",
   "execution_count": 12,
   "id": "f00fbcbb",
   "metadata": {},
   "outputs": [
    {
     "name": "stdout",
     "output_type": "stream",
     "text": [
      "Enter you number: 5\n",
      "user_input = 5\n",
      "Finally_blocs......\n"
     ]
    }
   ],
   "source": [
    "while True:\n",
    "    try:\n",
    "        num = int(input(\"Enter you number: \"))\n",
    "    except ValueError:\n",
    "        print(\"Maybe You Entered String\")\n",
    "    except:\n",
    "        print(\"Unexpected Error.......\")\n",
    "    else:\n",
    "        print(f'user_input = {num}')\n",
    "        break\n",
    "    finally: # finally blocks always runs, with or without error\n",
    "        print(\"Finally_blocs......\")"
   ]
  },
  {
   "cell_type": "code",
   "execution_count": 13,
   "id": "8c21a8a1",
   "metadata": {},
   "outputs": [
    {
     "name": "stdout",
     "output_type": "stream",
     "text": [
      "2.0\n"
     ]
    }
   ],
   "source": [
    "#Exercise 1\n",
    "def divide(a,b):\n",
    "    try:\n",
    "        return a/b\n",
    "    except ZeroDivisionError as err:\n",
    "        print(err)\n",
    "    except TypeError:\n",
    "        print(\"Numers must be integrs or floats\")\n",
    "    except:\n",
    "        print(\"Unexpected Error\")\n",
    "        \n",
    "print(divide(6,3))"
   ]
  },
  {
   "cell_type": "code",
   "execution_count": 14,
   "id": "e5cda952",
   "metadata": {},
   "outputs": [
    {
     "name": "stdout",
     "output_type": "stream",
     "text": [
      "Enter: fff\n"
     ]
    },
    {
     "ename": "Tooshortname",
     "evalue": "NAME IS TOO SHORT..",
     "output_type": "error",
     "traceback": [
      "\u001b[1;31m---------------------------------------------------------------------------\u001b[0m",
      "\u001b[1;31mTooshortname\u001b[0m                              Traceback (most recent call last)",
      "Input \u001b[1;32mIn [14]\u001b[0m, in \u001b[0;36m<cell line: 9>\u001b[1;34m()\u001b[0m\n\u001b[0;32m      6\u001b[0m         \u001b[38;5;28;01mraise\u001b[39;00m Tooshortname(\u001b[38;5;124m\"\u001b[39m\u001b[38;5;124mNAME IS TOO SHORT..\u001b[39m\u001b[38;5;124m\"\u001b[39m)\n\u001b[0;32m      8\u001b[0m username \u001b[38;5;241m=\u001b[39m \u001b[38;5;28minput\u001b[39m(\u001b[38;5;124m\"\u001b[39m\u001b[38;5;124mEnter: \u001b[39m\u001b[38;5;124m\"\u001b[39m)\n\u001b[1;32m----> 9\u001b[0m \u001b[43mvalidate\u001b[49m\u001b[43m(\u001b[49m\u001b[43musername\u001b[49m\u001b[43m)\u001b[49m\n",
      "Input \u001b[1;32mIn [14]\u001b[0m, in \u001b[0;36mvalidate\u001b[1;34m(name)\u001b[0m\n\u001b[0;32m      4\u001b[0m \u001b[38;5;28;01mdef\u001b[39;00m \u001b[38;5;21mvalidate\u001b[39m(name):\n\u001b[0;32m      5\u001b[0m     \u001b[38;5;28;01mif\u001b[39;00m \u001b[38;5;28mlen\u001b[39m(name) \u001b[38;5;241m<\u001b[39m \u001b[38;5;241m8\u001b[39m:\n\u001b[1;32m----> 6\u001b[0m         \u001b[38;5;28;01mraise\u001b[39;00m Tooshortname(\u001b[38;5;124m\"\u001b[39m\u001b[38;5;124mNAME IS TOO SHORT..\u001b[39m\u001b[38;5;124m\"\u001b[39m)\n",
      "\u001b[1;31mTooshortname\u001b[0m: NAME IS TOO SHORT.."
     ]
    }
   ],
   "source": [
    "#Custom Exceptions\n",
    "class Tooshortname(ValueError):\n",
    "    pass\n",
    "def validate(name):\n",
    "    if len(name) < 8:\n",
    "        raise Tooshortname(\"NAME IS TOO SHORT..\")\n",
    "        \n",
    "username = input(\"Enter: \")\n",
    "validate(username)"
   ]
  },
  {
   "cell_type": "code",
   "execution_count": null,
   "id": "0390b134",
   "metadata": {},
   "outputs": [],
   "source": []
  }
 ],
 "metadata": {
  "kernelspec": {
   "display_name": "Python 3 (ipykernel)",
   "language": "python",
   "name": "python3"
  },
  "language_info": {
   "codemirror_mode": {
    "name": "ipython",
    "version": 3
   },
   "file_extension": ".py",
   "mimetype": "text/x-python",
   "name": "python",
   "nbconvert_exporter": "python",
   "pygments_lexer": "ipython3",
   "version": "3.9.12"
  }
 },
 "nbformat": 4,
 "nbformat_minor": 5
}
