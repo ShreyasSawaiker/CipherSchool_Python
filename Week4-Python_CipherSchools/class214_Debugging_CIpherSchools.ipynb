{
 "cells": [
  {
   "cell_type": "code",
   "execution_count": null,
   "id": "b5063b9f",
   "metadata": {
    "scrolled": true
   },
   "outputs": [],
   "source": [
    "import pdb #this is the debuggger module\n",
    "# 'l' is used to view the trace\n",
    "# 'n' is used to execute the line\n",
    "# 'c' is used to continue the deugger\n",
    "\n",
    "pdb.set_trace()\n",
    "name = input(\"ENter your name: \")\n",
    "age = int(input(\"ENter your age: \"))\n",
    "print(f\"Hello {name}, you are {age} years old\")\n",
    "age2 = int(age)+5\n",
    "print(f\"{name} you will be {age2} after 5 years\")"
   ]
  },
  {
   "cell_type": "code",
   "execution_count": null,
   "id": "5a87ebba",
   "metadata": {},
   "outputs": [],
   "source": []
  }
 ],
 "metadata": {
  "kernelspec": {
   "display_name": "Python 3 (ipykernel)",
   "language": "python",
   "name": "python3"
  },
  "language_info": {
   "codemirror_mode": {
    "name": "ipython",
    "version": 3
   },
   "file_extension": ".py",
   "mimetype": "text/x-python",
   "name": "python",
   "nbconvert_exporter": "python",
   "pygments_lexer": "ipython3",
   "version": "3.9.12"
  }
 },
 "nbformat": 4,
 "nbformat_minor": 5
}
