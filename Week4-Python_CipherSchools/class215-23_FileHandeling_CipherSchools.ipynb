{
 "cells": [
  {
   "cell_type": "code",
   "execution_count": 7,
   "id": "d4ba4815",
   "metadata": {},
   "outputs": [
    {
     "name": "stdout",
     "output_type": "stream",
     "text": [
      "Cursor position -> 0\n",
      "Wassup File.\n",
      "How you dooin??????\n",
      "Godspeed to you\n",
      "Peayblinder season 6 is good\n",
      "I like Big Bang Theory\n",
      "Mr.Robot the wizard I like\n",
      "Cursor position -> 132\n",
      "Before seek method\n",
      "After Seek position -> 0\n"
     ]
    }
   ],
   "source": [
    "f = open(\"FileHandeling.txt\")\n",
    "print(f\"Cursor position -> {f.tell()}\")\n",
    "print(f.read())\n",
    "print(f\"Cursor position -> {f.tell()}\")\n",
    "print(\"Before seek method\")\n",
    "f.seek(0)\n",
    "print(f\"After Seek position -> {f.tell()}\")\n",
    "#f.close() #Good practice to close the file"
   ]
  },
  {
   "cell_type": "code",
   "execution_count": 9,
   "id": "3d5e5966",
   "metadata": {},
   "outputs": [
    {
     "name": "stdout",
     "output_type": "stream",
     "text": [
      "Godspeed to you\n",
      "\n"
     ]
    }
   ],
   "source": [
    "f.readline()\n",
    "print(f.readline())"
   ]
  },
  {
   "cell_type": "code",
   "execution_count": 10,
   "id": "9714b6f2",
   "metadata": {},
   "outputs": [
    {
     "name": "stdout",
     "output_type": "stream",
     "text": [
      "['Peayblinder season 6 is good\\n', 'I like Big Bang Theory\\n', 'Mr.Robot the wizard I like']\n"
     ]
    }
   ],
   "source": [
    "lines = f.readlines()\n",
    "print(lines)"
   ]
  },
  {
   "cell_type": "code",
   "execution_count": 12,
   "id": "b201761d",
   "metadata": {},
   "outputs": [
    {
     "name": "stdout",
     "output_type": "stream",
     "text": [
      "Peayblinder season 6 is good\n",
      "I like Big Bang Theory\n",
      "Mr.Robot the wizard I like"
     ]
    }
   ],
   "source": [
    "for line in lines:\n",
    "    print(line,end=\"\")"
   ]
  },
  {
   "cell_type": "code",
   "execution_count": 14,
   "id": "ab6b17f1",
   "metadata": {},
   "outputs": [
    {
     "name": "stdout",
     "output_type": "stream",
     "text": [
      "FileHandeling.txt\n",
      "False\n"
     ]
    }
   ],
   "source": [
    "print(f.name) #data desciptors dont need brackets\n",
    "print(f.closed)"
   ]
  },
  {
   "cell_type": "code",
   "execution_count": 23,
   "id": "88d5bc7b",
   "metadata": {},
   "outputs": [
    {
     "name": "stdout",
     "output_type": "stream",
     "text": [
      "True\n"
     ]
    }
   ],
   "source": [
    "# for line in f.readlines()[:2]: #file slicing \n",
    "#     print(line)\n",
    "    \n",
    "f.close()\n",
    "print(f.closed)"
   ]
  },
  {
   "cell_type": "code",
   "execution_count": 20,
   "id": "903da856",
   "metadata": {},
   "outputs": [
    {
     "name": "stdout",
     "output_type": "stream",
     "text": [
      "['This is mad eblock and othe file IO\\n', 'How you doing\\n', 'I watch lot of TV\\n', 'I like playing games\\n', 'Witcher 3, NFS, GTA V']\n"
     ]
    }
   ],
   "source": [
    "# using block read file\n",
    "# This automatically closes the file\n",
    "with open(\"FileHandeling2.txt\") as d:\n",
    "    data = d.readlines()\n",
    "    print(data)"
   ]
  },
  {
   "cell_type": "markdown",
   "id": "ef3e5200",
   "metadata": {},
   "source": [
    "# Writing files"
   ]
  },
  {
   "cell_type": "code",
   "execution_count": 29,
   "id": "9f3880f6",
   "metadata": {},
   "outputs": [],
   "source": [
    "# w mode overided the existing data but it also creates new file if not already have\n",
    "# a mode is used to append the file\n",
    "# r+ mode is used for both read and write the files but it cannot create file on its own\n",
    "with open(\"FileHandeling2.txt\",\"a\") as e:\n",
    "    e.write(\"\\nAppending to the file\")"
   ]
  },
  {
   "cell_type": "code",
   "execution_count": 34,
   "id": "bb12ec8b",
   "metadata": {},
   "outputs": [],
   "source": [
    "with open(\"FileHandeling2.txt\",\"r+\") as b:\n",
    "    b.seek(len(b.read()))\n",
    "    b.write(\"Woahhhhhhhhh!\")"
   ]
  },
  {
   "cell_type": "code",
   "execution_count": 35,
   "id": "2deca65d",
   "metadata": {},
   "outputs": [],
   "source": [
    "# from copying files from one file to another\n",
    "# with open(\"FileHandeling2.txt\",\"r\") as rf:\n",
    "#     with open(\"FileHandeling3.txt\",\"w\") as wf:\n",
    "#         wf.write(rf.read())"
   ]
  },
  {
   "cell_type": "code",
   "execution_count": null,
   "id": "19b42de7",
   "metadata": {},
   "outputs": [],
   "source": []
  },
  {
   "cell_type": "markdown",
   "id": "ec3ad929",
   "metadata": {},
   "source": [
    "# Exercise 1"
   ]
  },
  {
   "cell_type": "code",
   "execution_count": 37,
   "id": "fa27c91d",
   "metadata": {},
   "outputs": [],
   "source": [
    "with open(\"Exercise1Salary.txt\",\"r\") as rf:\n",
    "    with open(\"Ex1Output.txt\",\"a\") as wf:\n",
    "        for line in rf.readlines():\n",
    "            name,salary = line.split(\",\")\n",
    "            wf.write(f\"Name: {name}'s salary is {salary}\")"
   ]
  },
  {
   "cell_type": "code",
   "execution_count": null,
   "id": "46007be5",
   "metadata": {},
   "outputs": [],
   "source": []
  },
  {
   "cell_type": "markdown",
   "id": "409e21e1",
   "metadata": {},
   "source": [
    "# Exercise 2"
   ]
  },
  {
   "cell_type": "code",
   "execution_count": 3,
   "id": "99c76925",
   "metadata": {},
   "outputs": [],
   "source": [
    "with open(\"Ex2.html\",\"r\") as webpage:\n",
    "    with open(\"OutputEx2.txt\",\"a\") as ow:\n",
    "        for line in webpage.readlines():\n",
    "            if '<a href=' in line:\n",
    "                pos = line.find(\"<a href=\")\n",
    "                firstquote = line.find(\"\\\"\",pos)\n",
    "                secondquote = line.find(\"\\\"\",firstquote+1)\n",
    "                url = line[firstquote+1:secondquote]\n",
    "                ow.write(url + \"\\n\")"
   ]
  },
  {
   "cell_type": "code",
   "execution_count": null,
   "id": "3af03978",
   "metadata": {},
   "outputs": [],
   "source": []
  }
 ],
 "metadata": {
  "kernelspec": {
   "display_name": "Python 3 (ipykernel)",
   "language": "python",
   "name": "python3"
  },
  "language_info": {
   "codemirror_mode": {
    "name": "ipython",
    "version": 3
   },
   "file_extension": ".py",
   "mimetype": "text/x-python",
   "name": "python",
   "nbconvert_exporter": "python",
   "pygments_lexer": "ipython3",
   "version": "3.9.12"
  }
 },
 "nbformat": 4,
 "nbformat_minor": 5
}
