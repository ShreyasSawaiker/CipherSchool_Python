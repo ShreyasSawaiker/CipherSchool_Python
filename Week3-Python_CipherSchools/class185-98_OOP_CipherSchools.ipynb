{
 "cells": [
  {
   "cell_type": "code",
   "execution_count": 2,
   "id": "dd49fffa",
   "metadata": {},
   "outputs": [
    {
     "name": "stdout",
     "output_type": "stream",
     "text": [
      "Constructor called\n",
      "Constructor called\n",
      "Mr\n",
      "24\n"
     ]
    }
   ],
   "source": [
    "#OOP\n",
    "class Person:\n",
    "    def __init__(self,firstname,lastname,age):\n",
    "        print(\"Constructor called\")\n",
    "        self.firstname = firstname\n",
    "        self.lastname = lastname\n",
    "        self.age = age\n",
    "\n",
    "p1 = Person(\"Mr\",\"Robot\",22)\n",
    "p2 = Person(\"Sahil\",\"Naik\",24)\n",
    "\n",
    "print(p1.firstname)\n",
    "print(p2.age)"
   ]
  },
  {
   "cell_type": "code",
   "execution_count": 3,
   "id": "fa2e2e3b",
   "metadata": {},
   "outputs": [
    {
     "name": "stdout",
     "output_type": "stream",
     "text": [
      "Dragonfly\n",
      "ROG\n"
     ]
    }
   ],
   "source": [
    "class Laptop:\n",
    "    def __init__(self,brand,name,price):\n",
    "        self.brand = brand\n",
    "        self.name = name\n",
    "        self.price = price\n",
    "        \n",
    "l1 = Laptop(\"HP\",\"Dragonfly\",155000)\n",
    "l2 = Laptop(\"Asus\",\"ROG\",200000)\n",
    "\n",
    "print(l1.name)\n",
    "print(l2.name)"
   ]
  },
  {
   "cell_type": "code",
   "execution_count": 9,
   "id": "68b2adfc",
   "metadata": {},
   "outputs": [
    {
     "name": "stdout",
     "output_type": "stream",
     "text": [
      "MrRobot\n",
      "SahilNaik\n",
      "2022\n"
     ]
    }
   ],
   "source": [
    "#instance methods\n",
    "class PersonD:\n",
    "    def __init__(self,first,last,year):\n",
    "        self.first = first\n",
    "        self.last = last\n",
    "        self.year = year\n",
    "    \n",
    "    def fullname(self):\n",
    "        print(self.first + self.last)\n",
    "        \n",
    "    def presentyear(self):\n",
    "        print(self.year)\n",
    "        \n",
    "p1 = PersonD(\"Mr\",\"Robot\",2022)\n",
    "p2 = PersonD(\"Sahil\",\"Naik\",2024)   \n",
    "p1.fullname()\n",
    "PersonD.fullname(p2)\n",
    "p1.presentyear()"
   ]
  },
  {
   "cell_type": "markdown",
   "id": "dfe2d06b",
   "metadata": {},
   "source": [
    "# Class Varaibles"
   ]
  },
  {
   "cell_type": "code",
   "execution_count": 11,
   "id": "bfcb42e7",
   "metadata": {},
   "outputs": [
    {
     "data": {
      "text/plain": [
       "31.400000000000002"
      ]
     },
     "execution_count": 11,
     "metadata": {},
     "output_type": "execute_result"
    }
   ],
   "source": [
    "class Circle:\n",
    "    pi = 3.14 #class variable\n",
    "    def __init__(self,radius):\n",
    "        self.radius = radius\n",
    "        \n",
    "    def circumference(self):\n",
    "        return 2*self.pi*self.radius\n",
    "    \n",
    "c1 = Circle(5)\n",
    "c2 = Circle(4)\n",
    "c1.circumference()"
   ]
  },
  {
   "cell_type": "code",
   "execution_count": 20,
   "id": "b462782a",
   "metadata": {},
   "outputs": [
    {
     "name": "stdout",
     "output_type": "stream",
     "text": [
      "Mango\n",
      "450.0\n",
      "{'fruit_type': 'Mango', 'price': 500}\n",
      "245.0\n",
      "2\n"
     ]
    }
   ],
   "source": [
    "class Fruits:\n",
    "    discount_percent = 10\n",
    "    countinstance = 0\n",
    "    def __init__(self,fruit_type,price):\n",
    "        Fruits.countinstance+=1\n",
    "        self.fruit_type = fruit_type\n",
    "        self.price = price\n",
    "        \n",
    "    def afterdiscount(self):\n",
    "        off_price = (self.discount_percent/100)*self.price\n",
    "        return self.price - off_price\n",
    "        \n",
    "        \n",
    "f1 = Fruits(\"Mango\",500)\n",
    "f2 = Fruits(\"Kiwi\",350)\n",
    "\n",
    "print(f1.fruit_type)\n",
    "print(f1.afterdiscount())\n",
    "print(f1.__dict__)\n",
    "\n",
    "f2.discount_percent = 30\n",
    "print(f2.afterdiscount())\n",
    "print(Fruits.countinstance)"
   ]
  },
  {
   "cell_type": "markdown",
   "id": "351163ea",
   "metadata": {},
   "source": [
    "# Class Methods"
   ]
  },
  {
   "cell_type": "code",
   "execution_count": 26,
   "id": "f706e91d",
   "metadata": {},
   "outputs": [
    {
     "name": "stdout",
     "output_type": "stream",
     "text": [
      "you have created 2 instances of Teenager class\n"
     ]
    }
   ],
   "source": [
    "class Teenager:\n",
    "    count_inst = 0\n",
    "    def __init__(self,firstname,lastname,age):\n",
    "        Teenager.count_inst += 1\n",
    "        self.firstname = firstname\n",
    "        self.lastname = lastname\n",
    "        self.age = age\n",
    "        \n",
    "    @classmethod\n",
    "    def from_string(cls,string):\n",
    "        first,last,age = string.split(\",\")\n",
    "        return cls(first,last,age)\n",
    "        \n",
    "    @classmethod\n",
    "    def count_instances(cls):\n",
    "        return f\"you have created {cls.count_inst} instances of Teenager class\"\n",
    "        \n",
    "    def teen(self):\n",
    "        if self.age<=18:\n",
    "            print(\"You are teenager.\")\n",
    "        else:\n",
    "            print(\"You are an adult!\")\n",
    "            \n",
    "\n",
    "\n",
    "p1 = Teenager(\"Mr\",\"Robot\",15)\n",
    "p2 = Teenager(\"Sahil\",\"Naik\",18)\n",
    "print(Teenager.count_instances())\n",
    "\n",
    "p3 = Teenager.from_string(\"Shrey,Stark,20\")"
   ]
  },
  {
   "cell_type": "markdown",
   "id": "5157e3ac",
   "metadata": {},
   "source": [
    "# Static Method"
   ]
  },
  {
   "cell_type": "code",
   "execution_count": 30,
   "id": "9397c7c2",
   "metadata": {},
   "outputs": [
    {
     "name": "stdout",
     "output_type": "stream",
     "text": [
      "you have created 2 instances of TeenagerStatic class\n"
     ]
    }
   ],
   "source": [
    "class TeenagerStatic:\n",
    "    count_insts = 0\n",
    "    def __init__(self,firstname,lastname,age):\n",
    "        TeenagerStatic.count_insts += 1\n",
    "        self.firstname = firstname\n",
    "        self.lastname = lastname\n",
    "        self.age = age\n",
    "        \n",
    "    @classmethod\n",
    "    def from_string(cls,string):\n",
    "        first,last,age = string.split(\",\")\n",
    "        return cls(first,last,age)\n",
    "        \n",
    "    @classmethod\n",
    "    def count_instances(cls):\n",
    "        return f\"you have created {cls.count_insts} instances of TeenagerStatic class\"\n",
    "        \n",
    "    def teen(self):\n",
    "        if self.age<=18:\n",
    "            print(\"You are teenager.\")\n",
    "        else:\n",
    "            print(\"You are an adult!\")\n",
    "            \n",
    "    @staticmethod\n",
    "    def static():\n",
    "        print(\"From Static\")\n",
    "\n",
    "\n",
    "p1 = TeenagerStatic(\"Mr\",\"Robot\",15)\n",
    "p2 = TeenagerStatic(\"Sahil\",\"Naik\",18)\n",
    "print(TeenagerStatic.count_instances())\n",
    "\n",
    "p3 = TeenagerStatic.from_string(\"Shrey,Stark,20\")"
   ]
  },
  {
   "cell_type": "code",
   "execution_count": null,
   "id": "ea0090da",
   "metadata": {},
   "outputs": [],
   "source": []
  }
 ],
 "metadata": {
  "kernelspec": {
   "display_name": "Python 3 (ipykernel)",
   "language": "python",
   "name": "python3"
  },
  "language_info": {
   "codemirror_mode": {
    "name": "ipython",
    "version": 3
   },
   "file_extension": ".py",
   "mimetype": "text/x-python",
   "name": "python",
   "nbconvert_exporter": "python",
   "pygments_lexer": "ipython3",
   "version": "3.9.12"
  }
 },
 "nbformat": 4,
 "nbformat_minor": 5
}
