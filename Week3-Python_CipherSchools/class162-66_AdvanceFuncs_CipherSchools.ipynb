{
 "cells": [
  {
   "cell_type": "markdown",
   "id": "c7c236fb",
   "metadata": {},
   "source": [
    "# Any and All Function"
   ]
  },
  {
   "cell_type": "code",
   "execution_count": 2,
   "id": "69a40041",
   "metadata": {},
   "outputs": [
    {
     "name": "stdout",
     "output_type": "stream",
     "text": [
      "True\n",
      "True\n"
     ]
    }
   ],
   "source": [
    "nums = [2,4,6,8,10]\n",
    "even = []\n",
    "\n",
    "for i in nums:\n",
    "    even.append(i%2 == 0)\n",
    "    \n",
    "print(all(even)) #if all values are true\n",
    "print(any(even)) #if any one value is true"
   ]
  },
  {
   "cell_type": "markdown",
   "id": "4c75323a",
   "metadata": {},
   "source": [
    "# Advance Max and Min Function"
   ]
  },
  {
   "cell_type": "code",
   "execution_count": 4,
   "id": "fd742040",
   "metadata": {},
   "outputs": [
    {
     "name": "stdout",
     "output_type": "stream",
     "text": [
      "Shrey\n",
      "Tom\n"
     ]
    }
   ],
   "source": [
    "names = ['Shrey','Robot','Root','Tom']\n",
    "\n",
    "def lfunc(item):\n",
    "    return len(item)\n",
    "\n",
    "print(max(names,key=lfunc))\n",
    "print(min(names,key=lfunc))"
   ]
  },
  {
   "cell_type": "code",
   "execution_count": 8,
   "id": "f7c158fe",
   "metadata": {},
   "outputs": [
    {
     "name": "stdout",
     "output_type": "stream",
     "text": [
      "{'name': 'Groot', 'score': 95, 'age': 24}\n",
      "Groot\n"
     ]
    }
   ],
   "source": [
    "students = [{'name':'Root','score':90,'age':22},\n",
    "            {'name':'Groot','score':95,'age':24},\n",
    "            {'name':'Froot','score':92,'age':23}]\n",
    "\n",
    "print(max(students,key=lambda item:item.get('score')))\n",
    "print(max(students,key=lambda item:item.get('score'))['name'])"
   ]
  },
  {
   "cell_type": "markdown",
   "id": "c553c363",
   "metadata": {},
   "source": [
    "# Advance Sort"
   ]
  },
  {
   "cell_type": "code",
   "execution_count": 10,
   "id": "83a188b3",
   "metadata": {},
   "outputs": [
    {
     "name": "stdout",
     "output_type": "stream",
     "text": [
      "[{'model': 'f340', 'price': 45000}, {'model': 'f540', 'price': 65000}, {'model': 'f40', 'price': 145000}]\n",
      "[{'model': 'f40', 'price': 145000}, {'model': 'f540', 'price': 65000}, {'model': 'f340', 'price': 45000}]\n"
     ]
    }
   ],
   "source": [
    "guitars = [{'model':'f340','price':45000},\n",
    "           {'model':'f540','price':65000},\n",
    "           {'model':'f40','price':145000}]\n",
    "\n",
    "print(sorted(guitars, key=lambda d:d['price']))\n",
    "print(sorted(guitars, key=lambda d:d['price'],reverse = True))"
   ]
  },
  {
   "cell_type": "markdown",
   "id": "84af7519",
   "metadata": {},
   "source": [
    "# Doc Strings"
   ]
  },
  {
   "cell_type": "code",
   "execution_count": 2,
   "id": "512a25b4",
   "metadata": {},
   "outputs": [
    {
     "name": "stdout",
     "output_type": "stream",
     "text": [
      "This Function takes two integers and return their sum\n"
     ]
    }
   ],
   "source": [
    "def add(a,b):\n",
    "    '''This Function takes two integers and return their sum'''\n",
    "    return a+b\n",
    "\n",
    "print(add.__doc__)"
   ]
  },
  {
   "cell_type": "code",
   "execution_count": 3,
   "id": "272d2343",
   "metadata": {},
   "outputs": [
    {
     "name": "stdout",
     "output_type": "stream",
     "text": [
      "Return the number of items in a container.\n"
     ]
    }
   ],
   "source": [
    "print(len.__doc__)"
   ]
  },
  {
   "cell_type": "code",
   "execution_count": 4,
   "id": "e82b88c0",
   "metadata": {},
   "outputs": [
    {
     "name": "stdout",
     "output_type": "stream",
     "text": [
      "Help on built-in function sum in module builtins:\n",
      "\n",
      "sum(iterable, /, start=0)\n",
      "    Return the sum of a 'start' value (default: 0) plus an iterable of numbers\n",
      "    \n",
      "    When the iterable is empty, return the start value.\n",
      "    This function is intended specifically for use with numeric values and may\n",
      "    reject non-numeric types.\n",
      "\n",
      "None\n"
     ]
    }
   ],
   "source": [
    "print(help(sum))"
   ]
  },
  {
   "cell_type": "code",
   "execution_count": null,
   "id": "fe21e4be",
   "metadata": {},
   "outputs": [],
   "source": []
  }
 ],
 "metadata": {
  "kernelspec": {
   "display_name": "Python 3 (ipykernel)",
   "language": "python",
   "name": "python3"
  },
  "language_info": {
   "codemirror_mode": {
    "name": "ipython",
    "version": 3
   },
   "file_extension": ".py",
   "mimetype": "text/x-python",
   "name": "python",
   "nbconvert_exporter": "python",
   "pygments_lexer": "ipython3",
   "version": "3.9.12"
  }
 },
 "nbformat": 4,
 "nbformat_minor": 5
}
