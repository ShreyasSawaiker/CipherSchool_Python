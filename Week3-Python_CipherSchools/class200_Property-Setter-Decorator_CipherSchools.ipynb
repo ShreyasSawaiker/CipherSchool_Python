{
 "cells": [
  {
   "cell_type": "code",
   "execution_count": 12,
   "id": "a18660f0",
   "metadata": {},
   "outputs": [
    {
     "name": "stdout",
     "output_type": "stream",
     "text": [
      "{'brand': 'Nokia', 'model': '1100', '_price': 1000}\n",
      "Nokia 1100 1000\n",
      "1000\n",
      "0\n"
     ]
    }
   ],
   "source": [
    "class Phone:\n",
    "    def __init__(self,brand,model,price):\n",
    "        self.brand = brand\n",
    "        self.model = model\n",
    "        self._price = max(price,0)\n",
    "        \n",
    "    @property\n",
    "    def fullspec(self):\n",
    "        print(f\"{self.brand} {self.model} {self._price}\")\n",
    "    \n",
    "    @property #getter\n",
    "    def price(self):\n",
    "        return self._price\n",
    "        \n",
    "    @price.setter\n",
    "    def price(self,newprice):\n",
    "        self._price = max(newprice,0)\n",
    "    \n",
    "    def makecall(self,phonenum):\n",
    "        print(f\"Making call to {phonenum}\")\n",
    "        \n",
    "    def fullname(self):\n",
    "        print(f\"{self.brand} {self.model}\")\n",
    "        \n",
    "phone1 = Phone(\"Nokia\",\"1100\",1000)\n",
    "print(phone1.__dict__)\n",
    "phone1.fullspec\n",
    "print(phone1.price)\n",
    "phone1.price = -500\n",
    "print(phone1.price)"
   ]
  },
  {
   "cell_type": "code",
   "execution_count": null,
   "id": "19ad87db",
   "metadata": {},
   "outputs": [],
   "source": []
  }
 ],
 "metadata": {
  "kernelspec": {
   "display_name": "Python 3 (ipykernel)",
   "language": "python",
   "name": "python3"
  },
  "language_info": {
   "codemirror_mode": {
    "name": "ipython",
    "version": 3
   },
   "file_extension": ".py",
   "mimetype": "text/x-python",
   "name": "python",
   "nbconvert_exporter": "python",
   "pygments_lexer": "ipython3",
   "version": "3.9.12"
  }
 },
 "nbformat": 4,
 "nbformat_minor": 5
}
