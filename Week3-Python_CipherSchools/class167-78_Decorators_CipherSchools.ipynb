{
 "cells": [
  {
   "cell_type": "code",
   "execution_count": 1,
   "id": "da1977b6",
   "metadata": {},
   "outputs": [],
   "source": [
    "#Function As Arguments\n",
    "def square(a):\n",
    "    return a**2\n",
    "\n",
    "def mymap(func, l):\n",
    "    newlist = []\n",
    "    for item in l:\n",
    "        newlist.append(func(item))\n",
    "    \n",
    "    return newlist"
   ]
  },
  {
   "cell_type": "code",
   "execution_count": 2,
   "id": "791f4a76",
   "metadata": {},
   "outputs": [
    {
     "name": "stdout",
     "output_type": "stream",
     "text": [
      "[1, 4, 9, 16, 25]\n"
     ]
    }
   ],
   "source": [
    "numl = [1,2,3,4,5]\n",
    "print(mymap(square,numl))"
   ]
  },
  {
   "cell_type": "code",
   "execution_count": 3,
   "id": "b606b5c1",
   "metadata": {},
   "outputs": [
    {
     "name": "stdout",
     "output_type": "stream",
     "text": [
      "Inside Inner Func\n"
     ]
    }
   ],
   "source": [
    "#Function Returning Function\n",
    "def outerfunc():\n",
    "    def innerfunc():\n",
    "        print(\"Inside Inner Func\")\n",
    "    return innerfunc\n",
    "\n",
    "var = outerfunc()\n",
    "var()"
   ]
  },
  {
   "cell_type": "code",
   "execution_count": 5,
   "id": "5bb75227",
   "metadata": {},
   "outputs": [
    {
     "name": "stdout",
     "output_type": "stream",
     "text": [
      "Inside Inner Func Hi bruh\n"
     ]
    }
   ],
   "source": [
    "def outerfunc2(msg):\n",
    "    def innerfunc2():\n",
    "        print(f\"Inside Inner Func {msg}\")\n",
    "    return innerfunc2\n",
    "\n",
    "var = outerfunc2(\"Hi bruh\")\n",
    "var()"
   ]
  },
  {
   "cell_type": "markdown",
   "id": "3c85cd53",
   "metadata": {},
   "source": [
    "# Closure"
   ]
  },
  {
   "cell_type": "code",
   "execution_count": 6,
   "id": "f20911d8",
   "metadata": {},
   "outputs": [
    {
     "data": {
      "text/plain": [
       "125"
      ]
     },
     "execution_count": 6,
     "metadata": {},
     "output_type": "execute_result"
    }
   ],
   "source": [
    "def topower(x):\n",
    "    def calcpower(n):\n",
    "        return n**x\n",
    "    return calcpower\n",
    "\n",
    "cube = topower(3)\n",
    "cube(5)"
   ]
  },
  {
   "cell_type": "code",
   "execution_count": null,
   "id": "a7a80e56",
   "metadata": {},
   "outputs": [],
   "source": []
  },
  {
   "cell_type": "markdown",
   "id": "af7f2fe4",
   "metadata": {},
   "source": [
    "# Decorators"
   ]
  },
  {
   "cell_type": "code",
   "execution_count": 22,
   "id": "25310169",
   "metadata": {},
   "outputs": [],
   "source": [
    "from functools import wraps\n",
    "def decoratorfunc(any_func):\n",
    "    @wraps(any_func) #used for doc string separation\n",
    "    def wrapper(*args,**kwargs):\n",
    "        print(\"This is awesome\")\n",
    "        return any_func(*args,**kwargs)\n",
    "    return wrapper\n",
    "\n",
    "\n",
    "def func1():\n",
    "    print(\"This is function 1\")\n",
    "    \n",
    "def func2():\n",
    "    print(\"This is function 2\")\n",
    "    "
   ]
  },
  {
   "cell_type": "code",
   "execution_count": 23,
   "id": "f53203e5",
   "metadata": {},
   "outputs": [
    {
     "name": "stdout",
     "output_type": "stream",
     "text": [
      "This is awesome\n",
      "This is function 2\n"
     ]
    }
   ],
   "source": [
    "var = decoratorfunc(func2)\n",
    "var()"
   ]
  },
  {
   "cell_type": "code",
   "execution_count": 24,
   "id": "00c63f5f",
   "metadata": {},
   "outputs": [
    {
     "name": "stdout",
     "output_type": "stream",
     "text": [
      "This is awesome\n",
      "This is func 3\n"
     ]
    }
   ],
   "source": [
    "@decoratorfunc\n",
    "def func3():\n",
    "    print(\"This is func 3\")\n",
    "    \n",
    "func3()"
   ]
  },
  {
   "cell_type": "code",
   "execution_count": 25,
   "id": "917ca85d",
   "metadata": {},
   "outputs": [
    {
     "name": "stdout",
     "output_type": "stream",
     "text": [
      "This is awesome\n",
      "This is fun with arg 7\n"
     ]
    }
   ],
   "source": [
    "@decoratorfunc\n",
    "def fun(a):\n",
    "    print(\"This is fun with arg\",a)\n",
    "    \n",
    "fun(7)"
   ]
  },
  {
   "cell_type": "code",
   "execution_count": 26,
   "id": "b4a2d6bb",
   "metadata": {},
   "outputs": [
    {
     "name": "stdout",
     "output_type": "stream",
     "text": [
      "This is awesome\n",
      "5\n"
     ]
    }
   ],
   "source": [
    "@decoratorfunc\n",
    "def add(a,b):\n",
    "    return a+b\n",
    "\n",
    "print(add(2,3))\n"
   ]
  },
  {
   "cell_type": "code",
   "execution_count": 32,
   "id": "ce084311",
   "metadata": {},
   "outputs": [],
   "source": [
    "#practice decorator\n",
    "def printfuncdata(function):\n",
    "    @wraps(function)\n",
    "    def wrapper2(*args,**kwargs):\n",
    "        print(f\"You are calling function {function.__name__}\")\n",
    "        print(f\"{function.__doc__}\")\n",
    "        return function(*args,**kwargs)\n",
    "    return wrapper2"
   ]
  },
  {
   "cell_type": "code",
   "execution_count": 33,
   "id": "52898b8f",
   "metadata": {},
   "outputs": [
    {
     "name": "stdout",
     "output_type": "stream",
     "text": [
      "You are calling function sub\n",
      "This Function takes two parameters and return their subtraction\n",
      "5\n"
     ]
    }
   ],
   "source": [
    "@printfuncdata\n",
    "def sub(a,b):\n",
    "    \"\"\"This Function takes two parameters and return their subtraction\"\"\"\n",
    "    return a-b\n",
    "\n",
    "print(sub(10,5))"
   ]
  },
  {
   "cell_type": "markdown",
   "id": "e5606ab6",
   "metadata": {},
   "source": [
    "# Exercise 1"
   ]
  },
  {
   "cell_type": "code",
   "execution_count": 39,
   "id": "c088dbcb",
   "metadata": {},
   "outputs": [],
   "source": [
    "import time\n",
    "def calculatetime(function):\n",
    "    @wraps(function)\n",
    "    def wrapper3(*args,**kwargs):\n",
    "        print(f\"Executing {function.__name__}\")\n",
    "        t1 = time.time()\n",
    "        returnval = function(*args,**kwargs)\n",
    "        t2 = time.time()\n",
    "        total = t2-t1\n",
    "        print(f\"This function took {total} seconds\")\n",
    "        #return returnval\n",
    "    return wrapper3"
   ]
  },
  {
   "cell_type": "code",
   "execution_count": 41,
   "id": "d4a603b5",
   "metadata": {},
   "outputs": [
    {
     "name": "stdout",
     "output_type": "stream",
     "text": [
      "Executing squarefinder\n",
      "This function took 0.046904563903808594 seconds\n"
     ]
    }
   ],
   "source": [
    "@calculatetime\n",
    "def squarefinder(n):\n",
    "    return [i**2 for i in range(1,n+1)]\n",
    "\n",
    "squarefinder(100000)"
   ]
  },
  {
   "cell_type": "code",
   "execution_count": null,
   "id": "c9e4bde8",
   "metadata": {},
   "outputs": [],
   "source": []
  },
  {
   "cell_type": "markdown",
   "id": "940050d6",
   "metadata": {},
   "source": [
    "# Practice 2"
   ]
  },
  {
   "cell_type": "code",
   "execution_count": 47,
   "id": "f26fe27b",
   "metadata": {},
   "outputs": [],
   "source": [
    "def onlyint(func):\n",
    "    @wraps(func)\n",
    "    def wrapper4(*args,**kwargs):\n",
    "        datatypes = []\n",
    "        for i in args:\n",
    "            datatypes.append(type(i) == int)\n",
    "        if all(datatypes):\n",
    "            return func(*args,**kwargs)\n",
    "        else:\n",
    "            print(\"invalid\")\n",
    "    return wrapper4"
   ]
  },
  {
   "cell_type": "code",
   "execution_count": 49,
   "id": "13afd0d3",
   "metadata": {},
   "outputs": [
    {
     "name": "stdout",
     "output_type": "stream",
     "text": [
      "15\n"
     ]
    }
   ],
   "source": [
    "@onlyint\n",
    "def addall(*args):\n",
    "    tot = 0\n",
    "    for i in args:\n",
    "        tot+=i\n",
    "    return tot\n",
    "\n",
    "print(addall(1,2,3,4,5))"
   ]
  },
  {
   "cell_type": "code",
   "execution_count": 52,
   "id": "0c5e86f5",
   "metadata": {},
   "outputs": [],
   "source": [
    "#Decorator with arguments\n",
    "def only_allow(data_type):\n",
    "    def decorator(function):\n",
    "        @wraps(function)\n",
    "        def wrapper(*args,**kwargs):\n",
    "            if all(type(i) == data_type for i in args):\n",
    "                return function(*args,**kwargs)\n",
    "            print(\"invalid\")\n",
    "        return wrapper\n",
    "    return decorator"
   ]
  },
  {
   "cell_type": "code",
   "execution_count": 54,
   "id": "218d5fd9",
   "metadata": {},
   "outputs": [
    {
     "name": "stdout",
     "output_type": "stream",
     "text": [
      "I am Groot\n"
     ]
    }
   ],
   "source": [
    "@only_allow(str)\n",
    "def string_join(*args):\n",
    "    string = ''\n",
    "    for i in args:\n",
    "        string+=i\n",
    "    return string\n",
    "\n",
    "print(string_join(\"I am\",\" Groot\"))"
   ]
  },
  {
   "cell_type": "code",
   "execution_count": null,
   "id": "e6a4612b",
   "metadata": {},
   "outputs": [],
   "source": []
  }
 ],
 "metadata": {
  "kernelspec": {
   "display_name": "Python 3 (ipykernel)",
   "language": "python",
   "name": "python3"
  },
  "language_info": {
   "codemirror_mode": {
    "name": "ipython",
    "version": 3
   },
   "file_extension": ".py",
   "mimetype": "text/x-python",
   "name": "python",
   "nbconvert_exporter": "python",
   "pygments_lexer": "ipython3",
   "version": "3.9.12"
  }
 },
 "nbformat": 4,
 "nbformat_minor": 5
}
