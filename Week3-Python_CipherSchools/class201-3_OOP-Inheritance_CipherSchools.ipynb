{
 "cells": [
  {
   "cell_type": "code",
   "execution_count": 10,
   "id": "995f2642",
   "metadata": {},
   "outputs": [
    {
     "name": "stdout",
     "output_type": "stream",
     "text": [
      "nokia 1100\n",
      "50000\n"
     ]
    }
   ],
   "source": [
    "class Phone:\n",
    "    def __init__(self,brand,model,price):\n",
    "        self.brand = brand\n",
    "        self.model = model\n",
    "        self._price = max(price,0)\n",
    "        \n",
    "#     @property\n",
    "#     def fullspec(self):\n",
    "#         print(f\"{self.brand} {self.model} {self._price}\")\n",
    "    \n",
    "    def makecall(self,phonenum):\n",
    "        print(f\"Making call to {phonenum}\")\n",
    "        \n",
    "    def fullname(self):\n",
    "        print(f\"{self.brand} {self.model}\")\n",
    "\n",
    "#Inherited from Phone\n",
    "class SmartPhone(Phone):\n",
    "    def __init__(self,brand,model,price,ram,memory,camera):\n",
    "        #Phone.__init__(self,brand,model,price) #uncommon way\n",
    "        super().__init__(brand,model,price)\n",
    "        self.ram = ram\n",
    "        self.memory = memory\n",
    "        self.camera = camera\n",
    "        \n",
    "#     @property\n",
    "#     def fullspec(self):\n",
    "#         print(f\"{self.brand} {self.model} {self._price}\")\n",
    "        \n",
    "p1 = Phone(\"nokia\",\"1100\",1000)\n",
    "sp1 = SmartPhone(\"1+\",\"6\",50000,\"6gb\",\"64gb\",\"64MP\")\n",
    "p1.fullname()\n",
    "print(sp1._price)"
   ]
  },
  {
   "cell_type": "markdown",
   "id": "84c91faa",
   "metadata": {},
   "source": [
    "# Multilevel Inheritance"
   ]
  },
  {
   "cell_type": "code",
   "execution_count": 11,
   "id": "7843389c",
   "metadata": {},
   "outputs": [
    {
     "name": "stdout",
     "output_type": "stream",
     "text": [
      "nokia 1100\n",
      "50000\n"
     ]
    }
   ],
   "source": [
    "#Inherited from Phone\n",
    "class SmartPhone2(Phone):\n",
    "    def __init__(self,brand,model,price,ram,memory,camera):\n",
    "        super().__init__(brand,model,price)\n",
    "        self.ram = ram\n",
    "        self.memory = memory\n",
    "        self.camera = camera\n",
    "        \n",
    "        \n",
    "        \n",
    "p1 = Phone(\"nokia\",\"1100\",1000)\n",
    "sp2 = SmartPhone2(\"1+\",\"6\",50000,\"6gb\",\"64gb\",\"64MP\")\n",
    "p1.fullname()\n",
    "print(sp2._price)"
   ]
  },
  {
   "cell_type": "code",
   "execution_count": 13,
   "id": "a28134d6",
   "metadata": {},
   "outputs": [
    {
     "name": "stdout",
     "output_type": "stream",
     "text": [
      "Samsung Note 23\n"
     ]
    }
   ],
   "source": [
    "class FlagshipPhone(SmartPhone):\n",
    "    def __init__(self,brand,model,price,ram,memory,camera,chipset,battery):\n",
    "        super().__init__(brand,model,price,ram,memory,camera)\n",
    "        self.chipset = chipset\n",
    "        self.battery = battery\n",
    "\n",
    "samsung = FlagshipPhone(\"Samsung\",\"Note 23\",125000,\"12GB\",\"256GB\",\"100MP\",\"SD8+\",\"5000Mah\")\n",
    "samsung.fullname()"
   ]
  },
  {
   "cell_type": "code",
   "execution_count": 14,
   "id": "76e8e7eb",
   "metadata": {},
   "outputs": [
    {
     "name": "stdout",
     "output_type": "stream",
     "text": [
      "True\n"
     ]
    }
   ],
   "source": [
    "# is_instance fucntion\n",
    "print(isinstance(samsung,FlagshipPhone))"
   ]
  },
  {
   "cell_type": "code",
   "execution_count": 15,
   "id": "a6ff886a",
   "metadata": {},
   "outputs": [
    {
     "name": "stdout",
     "output_type": "stream",
     "text": [
      "True\n"
     ]
    }
   ],
   "source": [
    "# is_subclass funtion\n",
    "print(issubclass(FlagshipPhone,SmartPhone))"
   ]
  },
  {
   "cell_type": "markdown",
   "id": "52f8d79b",
   "metadata": {},
   "source": [
    "# Multiple Inheritance"
   ]
  },
  {
   "cell_type": "code",
   "execution_count": 16,
   "id": "35dd8402",
   "metadata": {},
   "outputs": [
    {
     "name": "stdout",
     "output_type": "stream",
     "text": [
      "I am just a class method\n"
     ]
    }
   ],
   "source": [
    "class A:\n",
    "    def class_a_method(self):\n",
    "        return \"I am just a class A method\"\n",
    "    \n",
    "    def hello(self):\n",
    "        return \"Hello from class A\"\n",
    "    \n",
    "instA = A()\n",
    "print(instA.class_a_method())"
   ]
  },
  {
   "cell_type": "code",
   "execution_count": 17,
   "id": "abfd0733",
   "metadata": {},
   "outputs": [],
   "source": [
    "class B:\n",
    "    def class_b_method(self):\n",
    "        return \"I am just a class B method\"\n",
    "    \n",
    "    def hello(self):\n",
    "        return \"Hello from class B\""
   ]
  },
  {
   "cell_type": "code",
   "execution_count": 20,
   "id": "fc8ea42f",
   "metadata": {},
   "outputs": [
    {
     "name": "stdout",
     "output_type": "stream",
     "text": [
      "Hello from class A\n",
      "Help on class C in module __main__:\n",
      "\n",
      "class C(A, B)\n",
      " |  Method resolution order:\n",
      " |      C\n",
      " |      A\n",
      " |      B\n",
      " |      builtins.object\n",
      " |  \n",
      " |  Methods inherited from A:\n",
      " |  \n",
      " |  class_a_method(self)\n",
      " |  \n",
      " |  hello(self)\n",
      " |  \n",
      " |  ----------------------------------------------------------------------\n",
      " |  Data descriptors inherited from A:\n",
      " |  \n",
      " |  __dict__\n",
      " |      dictionary for instance variables (if defined)\n",
      " |  \n",
      " |  __weakref__\n",
      " |      list of weak references to the object (if defined)\n",
      " |  \n",
      " |  ----------------------------------------------------------------------\n",
      " |  Methods inherited from B:\n",
      " |  \n",
      " |  class_b_method(self)\n",
      "\n",
      "None\n"
     ]
    }
   ],
   "source": [
    "class C(A,B):\n",
    "    pass\n",
    "\n",
    "instC = C()\n",
    "print(instC.hello())\n",
    "print(help(C)) #Method Resolution"
   ]
  },
  {
   "cell_type": "code",
   "execution_count": 22,
   "id": "3f233786",
   "metadata": {},
   "outputs": [
    {
     "name": "stdout",
     "output_type": "stream",
     "text": [
      "[<class '__main__.C'>, <class '__main__.A'>, <class '__main__.B'>, <class 'object'>]\n",
      "(<class '__main__.C'>, <class '__main__.A'>, <class '__main__.B'>, <class 'object'>)\n"
     ]
    }
   ],
   "source": [
    "print(C.mro())\n",
    "print(C.__mro__)"
   ]
  },
  {
   "cell_type": "code",
   "execution_count": null,
   "id": "d195357e",
   "metadata": {},
   "outputs": [],
   "source": []
  }
 ],
 "metadata": {
  "kernelspec": {
   "display_name": "Python 3 (ipykernel)",
   "language": "python",
   "name": "python3"
  },
  "language_info": {
   "codemirror_mode": {
    "name": "ipython",
    "version": 3
   },
   "file_extension": ".py",
   "mimetype": "text/x-python",
   "name": "python",
   "nbconvert_exporter": "python",
   "pygments_lexer": "ipython3",
   "version": "3.9.12"
  }
 },
 "nbformat": 4,
 "nbformat_minor": 5
}
