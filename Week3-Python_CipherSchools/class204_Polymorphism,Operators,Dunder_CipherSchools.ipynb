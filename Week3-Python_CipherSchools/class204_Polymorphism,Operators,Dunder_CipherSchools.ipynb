{
 "cells": [
  {
   "cell_type": "code",
   "execution_count": 3,
   "id": "bc975112",
   "metadata": {},
   "outputs": [
    {
     "name": "stdout",
     "output_type": "stream",
     "text": [
      "Nokia costs 1000\n",
      "Phone Nokia 1100 1000\n",
      "2200\n"
     ]
    }
   ],
   "source": [
    "class Phone:\n",
    "    def __init__(self,brand,model,price):\n",
    "        self.brand = brand\n",
    "        self.model = model\n",
    "        self.price = price\n",
    "        \n",
    "    def fullname(self):\n",
    "        print(f\"{self.brand} {self.model}\")\n",
    "        \n",
    "    def __str__(self): #dunder method\n",
    "        return f\"{self.brand} costs {self.price}\"\n",
    "        \n",
    "    def __repr__(self):\n",
    "        return f\"Phone {self.brand} {self.model} {self.price}\"\n",
    "    \n",
    "    def __len__(self):\n",
    "        return (len(self.fullname()))\n",
    "    \n",
    "    def __add__(self,other):\n",
    "        return self.price+other.price\n",
    "    \n",
    "phone1 = Phone(\"Nokia\",\"1100\",1000)\n",
    "phone2 = Phone(\"Nokia\",\"1200\",1200)\n",
    "print(phone1)\n",
    "print(repr(phone1))\n",
    "print(phone1+phone2)"
   ]
  },
  {
   "cell_type": "code",
   "execution_count": null,
   "id": "2f436c35",
   "metadata": {},
   "outputs": [],
   "source": [
    "# having many form of one function is called polymorphism\n",
    "# refer to ython doumentation for more dunder methods"
   ]
  }
 ],
 "metadata": {
  "kernelspec": {
   "display_name": "Python 3 (ipykernel)",
   "language": "python",
   "name": "python3"
  },
  "language_info": {
   "codemirror_mode": {
    "name": "ipython",
    "version": 3
   },
   "file_extension": ".py",
   "mimetype": "text/x-python",
   "name": "python",
   "nbconvert_exporter": "python",
   "pygments_lexer": "ipython3",
   "version": "3.9.12"
  }
 },
 "nbformat": 4,
 "nbformat_minor": 5
}
